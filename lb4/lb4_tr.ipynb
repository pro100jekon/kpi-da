{
 "cells": [
  {
   "cell_type": "code",
   "id": "initial_id",
   "metadata": {
    "collapsed": true,
    "ExecuteTime": {
     "end_time": "2025-01-13T17:33:57.355705Z",
     "start_time": "2025-01-13T17:33:57.352172Z"
    }
   },
   "source": [
    "import random\n",
    "import re\n",
    "import string\n",
    "\n",
    "import numpy as np\n",
    "import keras.api as keras\n",
    "from tensorflow.python.data import Dataset\n",
    "import tensorflow as tf"
   ],
   "outputs": [],
   "execution_count": 67
  },
  {
   "metadata": {
    "ExecuteTime": {
     "end_time": "2025-01-13T17:33:57.671488Z",
     "start_time": "2025-01-13T17:33:57.375097Z"
    }
   },
   "cell_type": "code",
   "source": [
    "with open('ukr.txt') as f:\n",
    "    lines = f.read().split(\"\\n\")[:-1]\n",
    "text_pairs = []\n",
    "for line in lines:\n",
    "    eng, ukr, _ = line.split(\"\\t\")\n",
    "    ukr = \"[start] \" + ukr + \" [end]\"\n",
    "    text_pairs.append((eng, ukr))"
   ],
   "id": "d24a6b9ade09fca6",
   "outputs": [],
   "execution_count": 68
  },
  {
   "metadata": {
    "ExecuteTime": {
     "end_time": "2025-01-13T17:33:57.681495Z",
     "start_time": "2025-01-13T17:33:57.677708Z"
    }
   },
   "cell_type": "code",
   "source": [
    "for _ in range(5):\n",
    "    print(random.choice(text_pairs))"
   ],
   "id": "61b48875b97dbfb5",
   "outputs": [
    {
     "name": "stdout",
     "output_type": "stream",
     "text": [
      "(\"I don't think Tom knows where I live.\", '[start] Не думаю, що Том знає, де я живу. [end]')\n",
      "('Tom is an excellent lawyer.', '[start] Том - відмінний адвокат. [end]')\n",
      "('I wonder why Tom resigned.', '[start] Мені цікаво, чому Том пішов у відставку. [end]')\n",
      "('I want you to let me go.', '[start] Я хочу, щоб ти мене відпустив. [end]')\n",
      "('Tom loved to travel.', '[start] Том любив подорожувати. [end]')\n"
     ]
    }
   ],
   "execution_count": 69
  },
  {
   "metadata": {
    "ExecuteTime": {
     "end_time": "2025-01-13T17:33:57.815570Z",
     "start_time": "2025-01-13T17:33:57.740316Z"
    }
   },
   "cell_type": "code",
   "source": [
    "random.shuffle(text_pairs)\n",
    "num_val_samples = int(0.15 * len(text_pairs))\n",
    "num_train_samples = len(text_pairs) - 2 * num_val_samples\n",
    "train_pairs = text_pairs[:num_train_samples]\n",
    "val_pairs = text_pairs[num_train_samples : num_train_samples + num_val_samples]\n",
    "test_pairs = text_pairs[num_train_samples + num_val_samples :]\n",
    "\n",
    "print(f\"{len(text_pairs)} total pairs\")\n",
    "print(f\"{len(train_pairs)} training pairs\")\n",
    "print(f\"{len(val_pairs)} validation pairs\")\n",
    "print(f\"{len(test_pairs)} test pairs\")"
   ],
   "id": "1a08acbd850498db",
   "outputs": [
    {
     "name": "stdout",
     "output_type": "stream",
     "text": [
      "159432 total pairs\n",
      "111604 training pairs\n",
      "23914 validation pairs\n",
      "23914 test pairs\n"
     ]
    }
   ],
   "execution_count": 70
  },
  {
   "metadata": {
    "ExecuteTime": {
     "end_time": "2025-01-13T17:33:58.375429Z",
     "start_time": "2025-01-13T17:33:57.893475Z"
    }
   },
   "cell_type": "code",
   "source": [
    "strip_chars = string.punctuation.replace(\"[\", \"\").replace(\"]\", \"\")\n",
    "\n",
    "def ukr_standardization(input_string):\n",
    "    return tf.strings.regex_replace(tf.strings.lower(input_string), '[%s]' % re.escape(strip_chars), '')\n",
    "\n",
    "vocab_size = 30000\n",
    "seq = 20\n",
    "batch_size = 128\n",
    "\n",
    "eng_vectorization = keras.layers.TextVectorization(\n",
    "    max_tokens=vocab_size,\n",
    "    output_mode=\"int\",\n",
    "    output_sequence_length=seq\n",
    ")\n",
    "ukr_vectorization = keras.layers.TextVectorization(\n",
    "    max_tokens=vocab_size,\n",
    "    output_mode=\"int\",\n",
    "    output_sequence_length=seq + 1,\n",
    "    standardize=ukr_standardization\n",
    ")\n",
    "\n",
    "train_eng_texts = [pair[0] for pair in train_pairs]\n",
    "train_ukr_texts = [pair[1] for pair in train_pairs]\n",
    "eng_vectorization.adapt(train_eng_texts)\n",
    "ukr_vectorization.adapt(train_ukr_texts)"
   ],
   "id": "41396e115e97530b",
   "outputs": [],
   "execution_count": 71
  },
  {
   "metadata": {
    "ExecuteTime": {
     "end_time": "2025-01-13T17:33:58.391773Z",
     "start_time": "2025-01-13T17:33:58.387524Z"
    }
   },
   "cell_type": "code",
   "source": [
    "def format_dataset(eng, ukr):\n",
    "    f_eng = eng_vectorization(eng)\n",
    "    f_ukr = ukr_vectorization(ukr)\n",
    "    return (\n",
    "        {\n",
    "            \"encoder_inputs\": f_eng,\n",
    "            \"decoder_inputs\": f_ukr[:, :-1]\n",
    "        },\n",
    "        f_ukr[:, 1:]\n",
    "    )\n",
    "\n",
    "def make_dataset(pairs):\n",
    "    eng_texts, ukr_texts = zip(*pairs)\n",
    "    eng_texts = np.array(eng_texts)\n",
    "    ukr_texts = np.array(ukr_texts)\n",
    "    dataset = Dataset.from_tensor_slices((eng_texts, ukr_texts)).batch(batch_size).map(format_dataset)\n",
    "    return dataset.cache().shuffle(4096).prefetch(16)"
   ],
   "id": "41e2522654152c12",
   "outputs": [],
   "execution_count": 72
  },
  {
   "metadata": {
    "ExecuteTime": {
     "end_time": "2025-01-13T17:33:59.771316Z",
     "start_time": "2025-01-13T17:33:58.442858Z"
    }
   },
   "cell_type": "code",
   "source": [
    "train_ds = make_dataset(train_pairs)\n",
    "val_ds = make_dataset(val_pairs)\n",
    "\n",
    "for inputs, outputs in train_ds.take(1):\n",
    "    print(f'inputs[\"encoder_inputs\"].shape: {inputs[\"encoder_inputs\"].shape}')\n",
    "    print(f'inputs[\"decoder_inputs\"].shape: {inputs[\"decoder_inputs\"].shape}')\n",
    "    print(f'outputs.shape: {outputs.shape}')"
   ],
   "id": "22a8f6f6a9ecc3f3",
   "outputs": [
    {
     "name": "stdout",
     "output_type": "stream",
     "text": [
      "inputs[\"encoder_inputs\"].shape: (128, 20)\n",
      "inputs[\"decoder_inputs\"].shape: (128, 20)\n",
      "outputs.shape: (128, 20)\n"
     ]
    }
   ],
   "execution_count": 73
  },
  {
   "metadata": {
    "ExecuteTime": {
     "end_time": "2025-01-13T17:33:59.796995Z",
     "start_time": "2025-01-13T17:33:59.784514Z"
    }
   },
   "cell_type": "code",
   "source": [
    "import keras.api.ops as ops\n",
    "\n",
    "class TransformerEncoder(keras.layers.Layer):\n",
    "    def __init__(self, embed_dim, dense_dim, num_heads, **kwargs):\n",
    "        super(TransformerEncoder, self).__init__(**kwargs)\n",
    "        self.embed_dim = embed_dim\n",
    "        self.dense_dim = dense_dim\n",
    "        self.num_heads = num_heads\n",
    "        self.attention = keras.layers.MultiHeadAttention(num_heads=num_heads, key_dim=embed_dim)\n",
    "        self.dense_projection = keras.Sequential([\n",
    "            keras.layers.Dense(dense_dim, activation=\"relu\"),\n",
    "            keras.layers.Dense(embed_dim),\n",
    "        ])\n",
    "        self.layer_norm_1 = keras.layers.LayerNormalization()\n",
    "        self.layer_norm_2 = keras.layers.LayerNormalization()\n",
    "        self.supports_masking = True\n",
    "\n",
    "    def call(self, inputs, mask=None):\n",
    "        if mask is not None:\n",
    "            padding_mask = ops.cast(mask[:, None, :], dtype=\"int32\")\n",
    "        else:\n",
    "            padding_mask = None\n",
    "\n",
    "        attention_out = self.attention(query=inputs, key=inputs, value=inputs, attention_mask=padding_mask)\n",
    "        proj_input = self.layer_norm_1(inputs + attention_out)\n",
    "        proj_output = self.dense_projection(proj_input)\n",
    "        return self.layer_norm_2(proj_input + proj_output)\n",
    "\n",
    "    def get_config(self):\n",
    "        config = super().get_config()\n",
    "        config.update(\n",
    "            {\n",
    "                \"embed_dim\": self.embed_dim,\n",
    "                \"dense_dim\": self.dense_dim,\n",
    "                \"num_heads\": self.num_heads,\n",
    "            }\n",
    "        )\n",
    "        return config\n",
    "\n",
    "class PositionalEmbedding(keras.layers.Layer):\n",
    "    def __init__(self, sequence_length, vocab_size, embed_dim, **kwargs):\n",
    "        super(PositionalEmbedding, self).__init__(**kwargs)\n",
    "        self.token_embedding = keras.layers.Embedding(vocab_size, embed_dim)\n",
    "        self.position_embedding = keras.layers.Embedding(sequence_length, embed_dim)\n",
    "        self.sequence_length = sequence_length\n",
    "        self.vocab_size = vocab_size\n",
    "        self.embed_dim = embed_dim\n",
    "\n",
    "    def call(self, inputs):\n",
    "        length = ops.shape(inputs)[-1]\n",
    "        positions = ops.arange(0, length, 1)\n",
    "        embedded_tokens = self.token_embedding(inputs)\n",
    "        embedded_positions = self.position_embedding(positions)\n",
    "        return embedded_tokens + embedded_positions\n",
    "\n",
    "    def compute_mask(self, inputs, mask=None):\n",
    "        return ops.not_equal(inputs, 0)\n",
    "\n",
    "    def get_config(self):\n",
    "        config = super().get_config()\n",
    "        config.update(\n",
    "            {\n",
    "                \"sequence_length\": self.sequence_length,\n",
    "                \"vocab_size\": self.vocab_size,\n",
    "                \"embed_dim\": self.embed_dim,\n",
    "            }\n",
    "        )\n",
    "        return config\n",
    "\n",
    "class TransformerDecoder(keras.layers.Layer):\n",
    "    def __init__(self, embed_dim, latent_dim, num_heads, **kwargs):\n",
    "        super(TransformerDecoder, self).__init__(**kwargs)\n",
    "        self.embed_dim = embed_dim\n",
    "        self.latent_dim = latent_dim\n",
    "        self.num_heads = num_heads\n",
    "        self.attention_1 = keras.layers.MultiHeadAttention(num_heads=num_heads, key_dim=embed_dim)\n",
    "        self.attention_2 = keras.layers.MultiHeadAttention(num_heads=num_heads, key_dim=embed_dim)\n",
    "        self.dense_projection = keras.Sequential([\n",
    "            keras.layers.Dense(latent_dim, activation=\"relu\"),\n",
    "            keras.layers.Dense(embed_dim)\n",
    "        ])\n",
    "        self.layer_norm_1 = keras.layers.LayerNormalization()\n",
    "        self.layer_norm_2 = keras.layers.LayerNormalization()\n",
    "        self.layer_norm_3 = keras.layers.LayerNormalization()\n",
    "        self.supports_masking = True\n",
    "\n",
    "    def call(self, inputs, mask=None):\n",
    "        inputs, encoder_outputs = inputs\n",
    "        causal_mask = self.get_causal_attention_mask(inputs)\n",
    "\n",
    "        if mask is not None:\n",
    "            inputs_padding_mask, encoder_outputs_padding_mask = mask\n",
    "        else:\n",
    "            inputs_padding_mask, encoder_outputs_padding_mask = None, None\n",
    "\n",
    "        attention_out_1 = self.attention_1(query=inputs, key=inputs, value=inputs, attention_mask=causal_mask, query_mask=inputs_padding_mask)\n",
    "        out_1 = self.layer_norm_1(inputs + attention_out_1)\n",
    "\n",
    "        attention_out_2 = self.attention_2(query=out_1, value=encoder_outputs, key=encoder_outputs, query_mask=inputs_padding_mask, key_mask=encoder_outputs_padding_mask)\n",
    "        out_2 = self.layer_norm_2(out_1 + attention_out_2)\n",
    "\n",
    "        proj_output = self.dense_projection(out_2)\n",
    "        return self.layer_norm_3(out_2 + proj_output)\n",
    "\n",
    "    def get_causal_attention_mask(self, inputs):\n",
    "        input_shape = ops.shape(inputs)\n",
    "        batch_size, sequence_length = input_shape[0], input_shape[1]\n",
    "        i = ops.arange(sequence_length)[:, None]\n",
    "        j = ops.arange(sequence_length)\n",
    "        mask = ops.cast(i >= j, dtype=\"int32\")\n",
    "        mask = ops.reshape(mask, (1, input_shape[1], input_shape[1]))\n",
    "        mult = ops.concatenate(\n",
    "            [ops.expand_dims(batch_size, -1), ops.convert_to_tensor([1, 1])],\n",
    "            axis=0,\n",
    "        )\n",
    "        return ops.tile(mask, mult)\n",
    "\n",
    "    def get_config(self):\n",
    "        config = super().get_config()\n",
    "        config.update(\n",
    "            {\n",
    "                \"embed_dim\": self.embed_dim,\n",
    "                \"latent_dim\": self.latent_dim,\n",
    "                \"num_heads\": self.num_heads,\n",
    "            }\n",
    "        )\n",
    "        return config"
   ],
   "id": "7c6b66fa56117f3",
   "outputs": [],
   "execution_count": 74
  },
  {
   "metadata": {
    "ExecuteTime": {
     "end_time": "2025-01-13T17:34:00.273865Z",
     "start_time": "2025-01-13T17:33:59.809695Z"
    }
   },
   "cell_type": "code",
   "source": [
    "embed_dim = 256\n",
    "latent_dim = 2048\n",
    "num_heads = 8\n",
    "\n",
    "encoder_inputs = keras.Input(shape=(None,), dtype=\"int64\", name=\"encoder_inputs\")\n",
    "x = PositionalEmbedding(seq, vocab_size, embed_dim)(encoder_inputs)\n",
    "encoder_outputs = TransformerEncoder(embed_dim, latent_dim, num_heads)(x)\n",
    "encoder = keras.Model(encoder_inputs, encoder_outputs)\n",
    "\n",
    "decoder_inputs = keras.Input(shape=(None,), dtype=\"int64\", name=\"decoder_inputs\")\n",
    "encoded_seq_inputs = keras.Input(shape=(None, embed_dim), name=\"decoder_state_inputs\")\n",
    "x = PositionalEmbedding(seq, vocab_size, embed_dim)(decoder_inputs)\n",
    "x = TransformerDecoder(embed_dim, latent_dim, num_heads)([x, encoder_outputs])\n",
    "x = keras.layers.Dropout(0.5)(x)\n",
    "decoder_outputs = keras.layers.Dense(vocab_size, activation=\"softmax\")(x)\n",
    "decoder = keras.Model([decoder_inputs, encoded_seq_inputs], decoder_outputs)\n",
    "\n",
    "transformer = keras.Model(\n",
    "    {\"encoder_inputs\": encoder_inputs, \"decoder_inputs\": decoder_inputs},\n",
    "    decoder_outputs,\n",
    "    name=\"transformer\",\n",
    ")"
   ],
   "id": "bac538ea2f2ff366",
   "outputs": [],
   "execution_count": 75
  },
  {
   "metadata": {
    "ExecuteTime": {
     "end_time": "2025-01-13T17:34:00.310098Z",
     "start_time": "2025-01-13T17:34:00.286718Z"
    }
   },
   "cell_type": "code",
   "source": [
    "epochs = 30  # This should be at least 30 for convergence\n",
    "\n",
    "transformer.summary()\n",
    "transformer.compile(\n",
    "    \"rmsprop\",\n",
    "    loss=keras.losses.SparseCategoricalCrossentropy(ignore_class=0),\n",
    "    metrics=[\"accuracy\"],\n",
    ")"
   ],
   "id": "e983a21682c6d5af",
   "outputs": [
    {
     "data": {
      "text/plain": [
       "\u001B[1mModel: \"transformer\"\u001B[0m\n"
      ],
      "text/html": [
       "<pre style=\"white-space:pre;overflow-x:auto;line-height:normal;font-family:Menlo,'DejaVu Sans Mono',consolas,'Courier New',monospace\"><span style=\"font-weight: bold\">Model: \"transformer\"</span>\n",
       "</pre>\n"
      ]
     },
     "metadata": {},
     "output_type": "display_data"
    },
    {
     "data": {
      "text/plain": [
       "┏━━━━━━━━━━━━━━━━━━━━━┳━━━━━━━━━━━━━━━━━━━┳━━━━━━━━━━━━┳━━━━━━━━━━━━━━━━━━━┓\n",
       "┃\u001B[1m \u001B[0m\u001B[1mLayer (type)       \u001B[0m\u001B[1m \u001B[0m┃\u001B[1m \u001B[0m\u001B[1mOutput Shape     \u001B[0m\u001B[1m \u001B[0m┃\u001B[1m \u001B[0m\u001B[1m   Param #\u001B[0m\u001B[1m \u001B[0m┃\u001B[1m \u001B[0m\u001B[1mConnected to     \u001B[0m\u001B[1m \u001B[0m┃\n",
       "┡━━━━━━━━━━━━━━━━━━━━━╇━━━━━━━━━━━━━━━━━━━╇━━━━━━━━━━━━╇━━━━━━━━━━━━━━━━━━━┩\n",
       "│ encoder_inputs      │ (\u001B[38;5;45mNone\u001B[0m, \u001B[38;5;45mNone\u001B[0m)      │          \u001B[38;5;34m0\u001B[0m │ -                 │\n",
       "│ (\u001B[38;5;33mInputLayer\u001B[0m)        │                   │            │                   │\n",
       "├─────────────────────┼───────────────────┼────────────┼───────────────────┤\n",
       "│ decoder_inputs      │ (\u001B[38;5;45mNone\u001B[0m, \u001B[38;5;45mNone\u001B[0m)      │          \u001B[38;5;34m0\u001B[0m │ -                 │\n",
       "│ (\u001B[38;5;33mInputLayer\u001B[0m)        │                   │            │                   │\n",
       "├─────────────────────┼───────────────────┼────────────┼───────────────────┤\n",
       "│ positional_embeddi… │ (\u001B[38;5;45mNone\u001B[0m, \u001B[38;5;45mNone\u001B[0m, \u001B[38;5;34m256\u001B[0m) │  \u001B[38;5;34m7,685,120\u001B[0m │ encoder_inputs[\u001B[38;5;34m0\u001B[0m… │\n",
       "│ (\u001B[38;5;33mPositionalEmbeddi…\u001B[0m │                   │            │                   │\n",
       "├─────────────────────┼───────────────────┼────────────┼───────────────────┤\n",
       "│ not_equal_4         │ (\u001B[38;5;45mNone\u001B[0m, \u001B[38;5;45mNone\u001B[0m)      │          \u001B[38;5;34m0\u001B[0m │ encoder_inputs[\u001B[38;5;34m0\u001B[0m… │\n",
       "│ (\u001B[38;5;33mNotEqual\u001B[0m)          │                   │            │                   │\n",
       "├─────────────────────┼───────────────────┼────────────┼───────────────────┤\n",
       "│ positional_embeddi… │ (\u001B[38;5;45mNone\u001B[0m, \u001B[38;5;45mNone\u001B[0m, \u001B[38;5;34m256\u001B[0m) │  \u001B[38;5;34m7,685,120\u001B[0m │ decoder_inputs[\u001B[38;5;34m0\u001B[0m… │\n",
       "│ (\u001B[38;5;33mPositionalEmbeddi…\u001B[0m │                   │            │                   │\n",
       "├─────────────────────┼───────────────────┼────────────┼───────────────────┤\n",
       "│ transformer_encode… │ (\u001B[38;5;45mNone\u001B[0m, \u001B[38;5;45mNone\u001B[0m, \u001B[38;5;34m256\u001B[0m) │  \u001B[38;5;34m3,155,456\u001B[0m │ positional_embed… │\n",
       "│ (\u001B[38;5;33mTransformerEncode…\u001B[0m │                   │            │ not_equal_4[\u001B[38;5;34m0\u001B[0m][\u001B[38;5;34m0\u001B[0m] │\n",
       "├─────────────────────┼───────────────────┼────────────┼───────────────────┤\n",
       "│ not_equal_5         │ (\u001B[38;5;45mNone\u001B[0m, \u001B[38;5;45mNone\u001B[0m)      │          \u001B[38;5;34m0\u001B[0m │ decoder_inputs[\u001B[38;5;34m0\u001B[0m… │\n",
       "│ (\u001B[38;5;33mNotEqual\u001B[0m)          │                   │            │                   │\n",
       "├─────────────────────┼───────────────────┼────────────┼───────────────────┤\n",
       "│ transformer_decode… │ (\u001B[38;5;45mNone\u001B[0m, \u001B[38;5;45mNone\u001B[0m, \u001B[38;5;34m256\u001B[0m) │  \u001B[38;5;34m5,259,520\u001B[0m │ positional_embed… │\n",
       "│ (\u001B[38;5;33mTransformerDecode…\u001B[0m │                   │            │ transformer_enco… │\n",
       "│                     │                   │            │ not_equal_5[\u001B[38;5;34m0\u001B[0m][\u001B[38;5;34m0\u001B[0m… │\n",
       "│                     │                   │            │ not_equal_4[\u001B[38;5;34m0\u001B[0m][\u001B[38;5;34m0\u001B[0m] │\n",
       "├─────────────────────┼───────────────────┼────────────┼───────────────────┤\n",
       "│ dropout_11          │ (\u001B[38;5;45mNone\u001B[0m, \u001B[38;5;45mNone\u001B[0m, \u001B[38;5;34m256\u001B[0m) │          \u001B[38;5;34m0\u001B[0m │ transformer_deco… │\n",
       "│ (\u001B[38;5;33mDropout\u001B[0m)           │                   │            │                   │\n",
       "├─────────────────────┼───────────────────┼────────────┼───────────────────┤\n",
       "│ dense_14 (\u001B[38;5;33mDense\u001B[0m)    │ (\u001B[38;5;45mNone\u001B[0m, \u001B[38;5;45mNone\u001B[0m,      │  \u001B[38;5;34m7,710,000\u001B[0m │ dropout_11[\u001B[38;5;34m0\u001B[0m][\u001B[38;5;34m0\u001B[0m]  │\n",
       "│                     │ \u001B[38;5;34m30000\u001B[0m)            │            │                   │\n",
       "└─────────────────────┴───────────────────┴────────────┴───────────────────┘\n"
      ],
      "text/html": [
       "<pre style=\"white-space:pre;overflow-x:auto;line-height:normal;font-family:Menlo,'DejaVu Sans Mono',consolas,'Courier New',monospace\">┏━━━━━━━━━━━━━━━━━━━━━┳━━━━━━━━━━━━━━━━━━━┳━━━━━━━━━━━━┳━━━━━━━━━━━━━━━━━━━┓\n",
       "┃<span style=\"font-weight: bold\"> Layer (type)        </span>┃<span style=\"font-weight: bold\"> Output Shape      </span>┃<span style=\"font-weight: bold\">    Param # </span>┃<span style=\"font-weight: bold\"> Connected to      </span>┃\n",
       "┡━━━━━━━━━━━━━━━━━━━━━╇━━━━━━━━━━━━━━━━━━━╇━━━━━━━━━━━━╇━━━━━━━━━━━━━━━━━━━┩\n",
       "│ encoder_inputs      │ (<span style=\"color: #00d7ff; text-decoration-color: #00d7ff\">None</span>, <span style=\"color: #00d7ff; text-decoration-color: #00d7ff\">None</span>)      │          <span style=\"color: #00af00; text-decoration-color: #00af00\">0</span> │ -                 │\n",
       "│ (<span style=\"color: #0087ff; text-decoration-color: #0087ff\">InputLayer</span>)        │                   │            │                   │\n",
       "├─────────────────────┼───────────────────┼────────────┼───────────────────┤\n",
       "│ decoder_inputs      │ (<span style=\"color: #00d7ff; text-decoration-color: #00d7ff\">None</span>, <span style=\"color: #00d7ff; text-decoration-color: #00d7ff\">None</span>)      │          <span style=\"color: #00af00; text-decoration-color: #00af00\">0</span> │ -                 │\n",
       "│ (<span style=\"color: #0087ff; text-decoration-color: #0087ff\">InputLayer</span>)        │                   │            │                   │\n",
       "├─────────────────────┼───────────────────┼────────────┼───────────────────┤\n",
       "│ positional_embeddi… │ (<span style=\"color: #00d7ff; text-decoration-color: #00d7ff\">None</span>, <span style=\"color: #00d7ff; text-decoration-color: #00d7ff\">None</span>, <span style=\"color: #00af00; text-decoration-color: #00af00\">256</span>) │  <span style=\"color: #00af00; text-decoration-color: #00af00\">7,685,120</span> │ encoder_inputs[<span style=\"color: #00af00; text-decoration-color: #00af00\">0</span>… │\n",
       "│ (<span style=\"color: #0087ff; text-decoration-color: #0087ff\">PositionalEmbeddi…</span> │                   │            │                   │\n",
       "├─────────────────────┼───────────────────┼────────────┼───────────────────┤\n",
       "│ not_equal_4         │ (<span style=\"color: #00d7ff; text-decoration-color: #00d7ff\">None</span>, <span style=\"color: #00d7ff; text-decoration-color: #00d7ff\">None</span>)      │          <span style=\"color: #00af00; text-decoration-color: #00af00\">0</span> │ encoder_inputs[<span style=\"color: #00af00; text-decoration-color: #00af00\">0</span>… │\n",
       "│ (<span style=\"color: #0087ff; text-decoration-color: #0087ff\">NotEqual</span>)          │                   │            │                   │\n",
       "├─────────────────────┼───────────────────┼────────────┼───────────────────┤\n",
       "│ positional_embeddi… │ (<span style=\"color: #00d7ff; text-decoration-color: #00d7ff\">None</span>, <span style=\"color: #00d7ff; text-decoration-color: #00d7ff\">None</span>, <span style=\"color: #00af00; text-decoration-color: #00af00\">256</span>) │  <span style=\"color: #00af00; text-decoration-color: #00af00\">7,685,120</span> │ decoder_inputs[<span style=\"color: #00af00; text-decoration-color: #00af00\">0</span>… │\n",
       "│ (<span style=\"color: #0087ff; text-decoration-color: #0087ff\">PositionalEmbeddi…</span> │                   │            │                   │\n",
       "├─────────────────────┼───────────────────┼────────────┼───────────────────┤\n",
       "│ transformer_encode… │ (<span style=\"color: #00d7ff; text-decoration-color: #00d7ff\">None</span>, <span style=\"color: #00d7ff; text-decoration-color: #00d7ff\">None</span>, <span style=\"color: #00af00; text-decoration-color: #00af00\">256</span>) │  <span style=\"color: #00af00; text-decoration-color: #00af00\">3,155,456</span> │ positional_embed… │\n",
       "│ (<span style=\"color: #0087ff; text-decoration-color: #0087ff\">TransformerEncode…</span> │                   │            │ not_equal_4[<span style=\"color: #00af00; text-decoration-color: #00af00\">0</span>][<span style=\"color: #00af00; text-decoration-color: #00af00\">0</span>] │\n",
       "├─────────────────────┼───────────────────┼────────────┼───────────────────┤\n",
       "│ not_equal_5         │ (<span style=\"color: #00d7ff; text-decoration-color: #00d7ff\">None</span>, <span style=\"color: #00d7ff; text-decoration-color: #00d7ff\">None</span>)      │          <span style=\"color: #00af00; text-decoration-color: #00af00\">0</span> │ decoder_inputs[<span style=\"color: #00af00; text-decoration-color: #00af00\">0</span>… │\n",
       "│ (<span style=\"color: #0087ff; text-decoration-color: #0087ff\">NotEqual</span>)          │                   │            │                   │\n",
       "├─────────────────────┼───────────────────┼────────────┼───────────────────┤\n",
       "│ transformer_decode… │ (<span style=\"color: #00d7ff; text-decoration-color: #00d7ff\">None</span>, <span style=\"color: #00d7ff; text-decoration-color: #00d7ff\">None</span>, <span style=\"color: #00af00; text-decoration-color: #00af00\">256</span>) │  <span style=\"color: #00af00; text-decoration-color: #00af00\">5,259,520</span> │ positional_embed… │\n",
       "│ (<span style=\"color: #0087ff; text-decoration-color: #0087ff\">TransformerDecode…</span> │                   │            │ transformer_enco… │\n",
       "│                     │                   │            │ not_equal_5[<span style=\"color: #00af00; text-decoration-color: #00af00\">0</span>][<span style=\"color: #00af00; text-decoration-color: #00af00\">0</span>… │\n",
       "│                     │                   │            │ not_equal_4[<span style=\"color: #00af00; text-decoration-color: #00af00\">0</span>][<span style=\"color: #00af00; text-decoration-color: #00af00\">0</span>] │\n",
       "├─────────────────────┼───────────────────┼────────────┼───────────────────┤\n",
       "│ dropout_11          │ (<span style=\"color: #00d7ff; text-decoration-color: #00d7ff\">None</span>, <span style=\"color: #00d7ff; text-decoration-color: #00d7ff\">None</span>, <span style=\"color: #00af00; text-decoration-color: #00af00\">256</span>) │          <span style=\"color: #00af00; text-decoration-color: #00af00\">0</span> │ transformer_deco… │\n",
       "│ (<span style=\"color: #0087ff; text-decoration-color: #0087ff\">Dropout</span>)           │                   │            │                   │\n",
       "├─────────────────────┼───────────────────┼────────────┼───────────────────┤\n",
       "│ dense_14 (<span style=\"color: #0087ff; text-decoration-color: #0087ff\">Dense</span>)    │ (<span style=\"color: #00d7ff; text-decoration-color: #00d7ff\">None</span>, <span style=\"color: #00d7ff; text-decoration-color: #00d7ff\">None</span>,      │  <span style=\"color: #00af00; text-decoration-color: #00af00\">7,710,000</span> │ dropout_11[<span style=\"color: #00af00; text-decoration-color: #00af00\">0</span>][<span style=\"color: #00af00; text-decoration-color: #00af00\">0</span>]  │\n",
       "│                     │ <span style=\"color: #00af00; text-decoration-color: #00af00\">30000</span>)            │            │                   │\n",
       "└─────────────────────┴───────────────────┴────────────┴───────────────────┘\n",
       "</pre>\n"
      ]
     },
     "metadata": {},
     "output_type": "display_data"
    },
    {
     "data": {
      "text/plain": [
       "\u001B[1m Total params: \u001B[0m\u001B[38;5;34m31,495,216\u001B[0m (120.14 MB)\n"
      ],
      "text/html": [
       "<pre style=\"white-space:pre;overflow-x:auto;line-height:normal;font-family:Menlo,'DejaVu Sans Mono',consolas,'Courier New',monospace\"><span style=\"font-weight: bold\"> Total params: </span><span style=\"color: #00af00; text-decoration-color: #00af00\">31,495,216</span> (120.14 MB)\n",
       "</pre>\n"
      ]
     },
     "metadata": {},
     "output_type": "display_data"
    },
    {
     "data": {
      "text/plain": [
       "\u001B[1m Trainable params: \u001B[0m\u001B[38;5;34m31,495,216\u001B[0m (120.14 MB)\n"
      ],
      "text/html": [
       "<pre style=\"white-space:pre;overflow-x:auto;line-height:normal;font-family:Menlo,'DejaVu Sans Mono',consolas,'Courier New',monospace\"><span style=\"font-weight: bold\"> Trainable params: </span><span style=\"color: #00af00; text-decoration-color: #00af00\">31,495,216</span> (120.14 MB)\n",
       "</pre>\n"
      ]
     },
     "metadata": {},
     "output_type": "display_data"
    },
    {
     "data": {
      "text/plain": [
       "\u001B[1m Non-trainable params: \u001B[0m\u001B[38;5;34m0\u001B[0m (0.00 B)\n"
      ],
      "text/html": [
       "<pre style=\"white-space:pre;overflow-x:auto;line-height:normal;font-family:Menlo,'DejaVu Sans Mono',consolas,'Courier New',monospace\"><span style=\"font-weight: bold\"> Non-trainable params: </span><span style=\"color: #00af00; text-decoration-color: #00af00\">0</span> (0.00 B)\n",
       "</pre>\n"
      ]
     },
     "metadata": {},
     "output_type": "display_data"
    }
   ],
   "execution_count": 76
  },
  {
   "metadata": {
    "ExecuteTime": {
     "end_time": "2025-01-13T17:57:46.130317Z",
     "start_time": "2025-01-13T17:34:00.343671Z"
    }
   },
   "cell_type": "code",
   "source": "hist = transformer.fit(train_ds, epochs=epochs, validation_data=val_ds, verbose=0)",
   "id": "eb2d6d3c565a6562",
   "outputs": [
    {
     "name": "stderr",
     "output_type": "stream",
     "text": [
      "W0000 00:00:1736789643.818043  138295 assert_op.cc:38] Ignoring Assert operator compile_loss/sparse_categorical_crossentropy/SparseSoftmaxCrossEntropyWithLogits/assert_equal_1/Assert/Assert\n",
      "2025-01-13 19:34:15.170371: I external/local_xla/xla/stream_executor/cuda/cuda_asm_compiler.cc:397] ptxas warning : Registers are spilled to local memory in function 'input_multiply_reduce_fusion_2', 32 bytes spill stores, 28 bytes spill loads\n",
      "\n",
      "W0000 00:00:1736789668.511096  138290 assert_op.cc:38] Ignoring Assert operator compile_loss/sparse_categorical_crossentropy/SparseSoftmaxCrossEntropyWithLogits/assert_equal_1/Assert/Assert\n",
      "2025-01-13 19:34:39.758974: I external/local_xla/xla/stream_executor/cuda/cuda_asm_compiler.cc:397] ptxas warning : Registers are spilled to local memory in function 'input_multiply_reduce_fusion_2', 8 bytes spill stores, 8 bytes spill loads\n",
      "\n",
      "W0000 00:00:1736789710.690789  138290 assert_op.cc:38] Ignoring Assert operator compile_loss/sparse_categorical_crossentropy/SparseSoftmaxCrossEntropyWithLogits/assert_equal_1/Assert/Assert\n",
      "W0000 00:00:1736789712.175924  138293 assert_op.cc:38] Ignoring Assert operator compile_loss/sparse_categorical_crossentropy/SparseSoftmaxCrossEntropyWithLogits/assert_equal_1/Assert/Assert\n"
     ]
    }
   ],
   "execution_count": 77
  },
  {
   "metadata": {
    "ExecuteTime": {
     "end_time": "2025-01-13T17:57:46.160343Z",
     "start_time": "2025-01-13T17:57:46.156099Z"
    }
   },
   "cell_type": "code",
   "source": [
    "from matplotlib import pyplot as plt\n",
    "\n",
    "i = 0\n",
    "naming = []\n",
    "def show_history_plot(history_dict):\n",
    "    lv = history_dict[\"loss\"]\n",
    "    vlv = history_dict[\"val_loss\"]\n",
    "    epch = range(1, len(lv) + 1)\n",
    "    plt.plot(epch, lv, \"bo\", label=\"Training loss\")\n",
    "    plt.plot(epch, vlv, \"b\", label=\"Validation loss\")\n",
    "    plt.title(\"Training and validation loss\")\n",
    "    plt.xlabel(\"Epochs\")\n",
    "    plt.ylabel(\"Loss\")\n",
    "    plt.legend()\n",
    "    plt.show()"
   ],
   "id": "43f4bcffd99fa530",
   "outputs": [],
   "execution_count": 78
  },
  {
   "metadata": {
    "ExecuteTime": {
     "end_time": "2025-01-13T17:57:46.304163Z",
     "start_time": "2025-01-13T17:57:46.202752Z"
    }
   },
   "cell_type": "code",
   "source": "show_history_plot(hist.history)",
   "id": "600e42b17b00f004",
   "outputs": [
    {
     "data": {
      "text/plain": [
       "<Figure size 640x480 with 1 Axes>"
      ],
      "image/png": "[encoded data removed]"
     },
     "metadata": {},
     "output_type": "display_data"
    }
   ],
   "execution_count": 79
  },
  {
   "metadata": {
    "ExecuteTime": {
     "end_time": "2025-01-13T17:57:46.374418Z",
     "start_time": "2025-01-13T17:57:46.315834Z"
    }
   },
   "cell_type": "code",
   "source": [
    "ukr_vocab = ukr_vectorization.get_vocabulary()\n",
    "spa_index_lookup = dict(zip(range(len(ukr_vocab)), ukr_vocab))\n",
    "max_decoded_sentence_length = 20\n",
    "\n",
    "\n",
    "def decode_sequence(input_sentence):\n",
    "    tokenized_input_sentence = eng_vectorization([input_sentence])\n",
    "    decoded_sentence = \"[start]\"\n",
    "    for i in range(max_decoded_sentence_length):\n",
    "        tokenized_target_sentence = ukr_vectorization([decoded_sentence])[:, :-1]\n",
    "        predictions = transformer(\n",
    "            {\n",
    "                \"encoder_inputs\": tokenized_input_sentence,\n",
    "                \"decoder_inputs\": tokenized_target_sentence,\n",
    "            }\n",
    "        )\n",
    "\n",
    "        # ops.argmax(predictions[0, i, :]) is not a concrete value for jax here\n",
    "        sampled_token_index = ops.convert_to_numpy(\n",
    "            ops.argmax(predictions[0, i, :])\n",
    "        ).item(0)\n",
    "        sampled_token = spa_index_lookup[sampled_token_index]\n",
    "        decoded_sentence += \" \" + sampled_token\n",
    "\n",
    "        if sampled_token == \"[end]\":\n",
    "            break\n",
    "    return decoded_sentence"
   ],
   "id": "239fe3f722a05694",
   "outputs": [],
   "execution_count": 80
  },
  {
   "metadata": {
    "ExecuteTime": {
     "end_time": "2025-01-13T18:07:13.011196Z",
     "start_time": "2025-01-13T18:07:02.845329Z"
    }
   },
   "cell_type": "code",
   "source": [
    "test_eng_texts = [pair for pair in test_pairs]\n",
    "for _ in range(30):\n",
    "    input_sentence = random.choice(test_eng_texts)\n",
    "    translated = decode_sequence(input_sentence[0])\n",
    "    print(f'Англійська (оригінал): {input_sentence[0]}')\n",
    "    print(f'Українська (переклад): {translated}')\n",
    "    print(f'Українська (оригінал): {input_sentence[1]}')"
   ],
   "id": "e5163bb9968ae551",
   "outputs": [
    {
     "name": "stdout",
     "output_type": "stream",
     "text": [
      "Англійська (оригінал): How long will Tom be in Boston?\n",
      "Українська (переклад): [start] Скільки часу Том буде у Бостоні [end]\n",
      "Українська (оригінал): [start] Скільки часу Том буде в Бостоні? [end]\n",
      "Англійська (оригінал): Maybe Tom doesn't want anything.\n",
      "Українська (переклад): [start] Можливо Том нічого не хоче [end]\n",
      "Українська (оригінал): [start] Може, Том нічого не хоче. [end]\n",
      "Англійська (оригінал): How did Tom get to work this morning?\n",
      "Українська (переклад): [start] Як Том встав на цю ранок [end]\n",
      "Українська (оригінал): [start] Як Том дістався на роботу сьогодні вранці? [end]\n",
      "Англійська (оригінал): It looks like Tom is happy.\n",
      "Українська (переклад): [start] Том здається щасливий [end]\n",
      "Українська (оригінал): [start] Том, здається, щасливий. [end]\n",
      "Англійська (оригінал): Do you know her father?\n",
      "Українська (переклад): [start] Ви знаєте її батька [end]\n",
      "Українська (оригінал): [start] Ви знаєте її батька? [end]\n",
      "Англійська (оригінал): The boy remained silent.\n",
      "Українська (переклад): [start] Хлопець лишився [end]\n",
      "Українська (оригінал): [start] Хлопець мовчав. [end]\n",
      "Англійська (оригінал): Who's going to do it?\n",
      "Українська (переклад): [start] Хто це зробить [end]\n",
      "Українська (оригінал): [start] Хто цим займеться? [end]\n",
      "Англійська (оригінал): I almost won.\n",
      "Українська (переклад): [start] Я мало не виграв [end]\n",
      "Українська (оригінал): [start] Я мало не виграла. [end]\n",
      "Англійська (оригінал): I'm sure Tom is waiting for you.\n",
      "Українська (переклад): [start] Я впевнена що Том на тебе чекає [end]\n",
      "Українська (оригінал): [start] Я певен, що Том на тебе чекає. [end]\n",
      "Англійська (оригінал): Tom doesn't always tell the truth.\n",
      "Українська (переклад): [start] Том не завжди каже правду [end]\n",
      "Українська (оригінал): [start] Том не завжди каже правду. [end]\n",
      "Англійська (оригінал): The letter was wrongly addressed.\n",
      "Українська (переклад): [start] Собака був забула [end]\n",
      "Українська (оригінал): [start] На листі була помилкова адреса. [end]\n",
      "Англійська (оригінал): I have a subscription to Time.\n",
      "Українська (переклад): [start] У мене є до Тома [end]\n",
      "Українська (оригінал): [start] Я передплачую \"Time\". [end]\n",
      "Англійська (оригінал): This machine is now out of date.\n",
      "Українська (переклад): [start] Ця машина зараз вийшов з дому [end]\n",
      "Українська (оригінал): [start] Ця машина наразі застаріла. [end]\n",
      "Англійська (оригінал): Come, sit on my lap.\n",
      "Українська (переклад): [start] Йди сідайте на мою думку [end]\n",
      "Українська (оригінал): [start] Йди сюди, сідай мені на коліна. [end]\n",
      "Англійська (оригінал): You're in danger, Tom.\n",
      "Українська (переклад): [start] Ти в небезпеці Томе [end]\n",
      "Українська (оригінал): [start] Ти в небезпеці, Томе. [end]\n",
      "Англійська (оригінал): I'd ask Tom.\n",
      "Українська (переклад): [start] Я б питаєш Тома [end]\n",
      "Українська (оригінал): [start] Я би запитав Тома. [end]\n",
      "Англійська (оригінал): We knew that was bound to happen.\n",
      "Українська (переклад): [start] Ми знали що це звичайно ж трапиться [end]\n",
      "Українська (оригінал): [start] Ми знали, що це обов'язково трапиться. [end]\n",
      "Англійська (оригінал): I got her a doll.\n",
      "Українська (переклад): [start] Я отримав свою ляльку [end]\n",
      "Українська (оригінал): [start] Я взяв їй ляльку. [end]\n",
      "Англійська (оригінал): They refused to believe what I told them.\n",
      "Українська (переклад): [start] Вони вільні повірити тому що я сказав їм [end]\n",
      "Українська (оригінал): [start] Вони відмовилися повірити, коли я їм це розповів. [end]\n",
      "Англійська (оригінал): You've got to wake up.\n",
      "Українська (переклад): [start] Тобі треба здаватися [end]\n",
      "Українська (оригінал): [start] Тобі потрібно прокинутися. [end]\n",
      "Англійська (оригінал): I haven't seen him since.\n",
      "Українська (переклад): [start] Я його не бачила [end]\n",
      "Українська (оригінал): [start] З того часу я його не бачив. [end]\n",
      "Англійська (оригінал): Tom was angry with Mary.\n",
      "Українська (переклад): [start] Том був сердитий на Мері [end]\n",
      "Українська (оригінал): [start] Том був розлючений на Мері. [end]\n",
      "Англійська (оригінал): I made Tom promise that he wouldn't tell anybody what happened.\n",
      "Українська (переклад): [start] Я примусив Тома казати йому що нікому не скаже що трапилося [end]\n",
      "Українська (оригінал): [start] Я примусила Тома пообіцяти мені, що він нікому не скаже, що сталося. [end]\n",
      "Англійська (оригінал): It's no use trying to persuade her.\n",
      "Українська (переклад): [start] Немає її переконати їжі [end]\n",
      "Українська (оригінал): [start] Немає сенсу її переконувати. [end]\n",
      "Англійська (оригінал): He didn't believe it at first.\n",
      "Українська (переклад): [start] Він взагалі не повірили [end]\n",
      "Українська (оригінал): [start] Спочатку він цьому не повірив. [end]\n",
      "Англійська (оригінал): He is blind in one eye.\n",
      "Українська (переклад): [start] Він мені здається око [end]\n",
      "Українська (оригінал): [start] Він не бачить на одне око. [end]\n",
      "Англійська (оригінал): I bought a new printer.\n",
      "Українська (переклад): [start] Я купила новий для сонця [end]\n",
      "Українська (оригінал): [start] Я купив новий принтер. [end]\n",
      "Англійська (оригінал): What sort of yogurt do you like best?\n",
      "Українська (переклад): [start] Які саме найбільше тобі найбільше подобається [end]\n",
      "Українська (оригінал): [start] Який саме йогурт ви любите більше за все? [end]\n",
      "Англійська (оригінал): There are no restrooms in this building.\n",
      "Українська (переклад): [start] В цьому будинку нема жодних програми [end]\n",
      "Українська (оригінал): [start] У цій будівлі немає туалетів. [end]\n",
      "Англійська (оригінал): I almost agreed to do that.\n",
      "Українська (переклад): [start] Я майже погодився це зробити [end]\n",
      "Українська (оригінал): [start] Я мало не погодився це зробити. [end]\n"
     ]
    }
   ],
   "execution_count": 84
  },
  {
   "metadata": {
    "ExecuteTime": {
     "end_time": "2025-01-13T18:22:06.414336Z",
     "start_time": "2025-01-13T18:22:05.936521Z"
    }
   },
   "cell_type": "code",
   "source": [
    "tr = decode_sequence(\"Yesterday I played the game and I lost\")\n",
    "print(tr)"
   ],
   "id": "7fae264787fd29",
   "outputs": [
    {
     "name": "stdout",
     "output_type": "stream",
     "text": [
      "[start] Я вчора грав у мою гру [end]\n"
     ]
    }
   ],
   "execution_count": 89
  }
 ],
 "metadata": {
  "kernelspec": {
   "display_name": "Python 3",
   "language": "python",
   "name": "python3"
  },
  "language_info": {
   "codemirror_mode": {
    "name": "ipython",
    "version": 2
   },
   "file_extension": ".py",
   "mimetype": "text/x-python",
   "name": "python",
   "nbconvert_exporter": "python",
   "pygments_lexer": "ipython2",
   "version": "2.7.6"
  }
 },
 "nbformat": 4,
 "nbformat_minor": 5
}
